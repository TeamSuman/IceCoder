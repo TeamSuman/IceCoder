{
 "cells": [
  {
   "cell_type": "code",
   "execution_count": 9,
   "metadata": {},
   "outputs": [],
   "source": [
    "import os, sys\n",
    "import numpy as np\n",
    "import matplotlib.pyplot as plt\n",
    "import joblib\n",
    "from joblib import Parallel, delayed\n",
    "# SciKit library\n",
    "from sklearn.preprocessing import StandardScaler, MinMaxScaler\n",
    "from sklearn.model_selection import train_test_split\n",
    "import torch\n",
    "# Custom functions\n",
    "sys.path.append(\"../Scripts/\")\n",
    "from model import VAE\n",
    "from soaper import soapFromUniverse\n",
    "from utility import *\n",
    "import MDAnalysis as mda\n",
    "import tqdm.auto as tqdm"
   ]
  },
  {
   "cell_type": "code",
   "execution_count": 6,
   "metadata": {},
   "outputs": [],
   "source": [
    "#Universe \n",
    "uni_iceih = mda.Universe(\"../../Data/Simulated_Phases/IceIh/pbc_mol.gro\", \"../../Data/Simulated_Phases/IceIh/pbc_mol.xtc\")\n",
    "uni_iceic = mda.Universe(\"../../Data/Simulated_Phases/IceIc/pbc_mol.gro\", \"../../Data/Simulated_Phases/IceIc/pbc_mol.xtc\")\n",
    "uni_ice2D = mda.Universe(\"../../Data/Simulated_Phases/Ice2D/pbc_mol.gro\", \"../../Data/Simulated_Phases/Ice2D/pbc_mol.xtc\")\n",
    "uni_ice3 = mda.Universe(\"../../Data/Simulated_Phases/Ice3/pbc_mol.gro\", \"../../Data/Simulated_Phases/Ice3/pbc_mol.xtc\")\n",
    "uni_ice5 = mda.Universe(\"../../Data/Simulated_Phases/Ice5/pbc_mol.gro\", \"../../Data/Simulated_Phases/Ice5/pbc_mol.xtc\")\n",
    "uni_ice6 = mda.Universe(\"../../Data/Simulated_Phases/Ice6/pbc_mol.gro\", \"../../Data/Simulated_Phases/Ice6/pbc_mol.xtc\")\n",
    "uni_ice7 = mda.Universe(\"../../Data/Simulated_Phases/Ice7/pbc_mol.gro\", \"../../Data/Simulated_Phases/Ice7/pbc_mol.xtc\")\n",
    "uni_ice12 = mda.Universe(\"../../Data/Simulated_Phases/Ice12/pbc_mol.gro\", \"../../Data/Simulated_Phases/Ice12/pbc_mol.xtc\")\n",
    "uni_ice17 = mda.Universe(\"../../Data/Simulated_Phases/Ice17/pbc_mol.gro\", \"../../Data/Simulated_Phases/Ice17/pbc_mol.xtc\")\n",
    "# Liquids\n",
    "liq_1bar_230k = mda.Universe(\"../../Data/Simulated_Phases/Liquid/1bar_230k/pbc_mol.gro\", \"../../Data/Simulated_Phases/Liquid/1bar_230k/pbc_mol.xtc\")\n",
    "liq_3000bar_230k = mda.Universe(\"../../Data/Simulated_Phases/Liquid/3000bar_230k/pbc_mol.gro\", \"../../Data/Simulated_Phases/Liquid/3000bar_230k/pbc_mol.xtc\")\n",
    "liq_6000bar_230k = mda.Universe(\"../../Data/Simulated_Phases/Liquid/6000bar_230k/pbc_mol.gro\", \"../../Data/Simulated_Phases/Liquid/6000bar_230k/pbc_mol.xtc\")\n",
    "liq_8000bar_230k = mda.Universe(\"../../Data/Simulated_Phases/Liquid/8000bar_230k/pbc_mol.gro\", \"../../Data/Simulated_Phases/Liquid/8000bar_230k/pbc_mol.xtc\")\n",
    "liq_10000bar_250k = mda.Universe(\"../../Data/Simulated_Phases/Liquid/10000bar_250k/pbc_mol.gro\", \"../../Data/Simulated_Phases/Liquid/10000bar_250k/pbc_mol.xtc\")\n",
    "liq_5000bar_250k = mda.Universe(\"../../Data/Simulated_Phases/Liquid/5000bar_250k/pbc_mol.gro\", \"../../Data/Simulated_Phases/Liquid/5000bar_250k/pbc_mol.xtc\")\n",
    "liq_1bar_250k = mda.Universe(\"../../Data/Simulated_Phases/Liquid/1bar_250k/pbc_mol.gro\", \"../../Data/Simulated_Phases/Liquid/1bar_250k/pbc_mol.xtc\")\n",
    "liq_1bar_300k = mda.Universe(\"../../Data/Simulated_Phases/Liquid/1bar_300k/pbc_mol.gro\", \"../../Data/Simulated_Phases/Liquid/1bar_300k/pbc_mol.xtc\")\n",
    "#Minimized \n",
    "uni_iceih_min = mda.Universe(\"../../Data/Simulated_Phases/Minimized/iceih.gro\")\n",
    "uni_iceic_min = mda.Universe(\"../../Data/Simulated_Phases/Minimized/iceic.gro\")\n",
    "uni_ice2D_min = mda.Universe(\"../../Data/Simulated_Phases/Minimized/ice2d.gro\")\n",
    "uni_ice3_min = mda.Universe(\"../../Data/Simulated_Phases/Minimized/ice3.gro\")\n",
    "uni_ice5_min = mda.Universe(\"../../Data/Simulated_Phases/Minimized/ice5.gro\")\n",
    "uni_ice6_min = mda.Universe(\"../../Data/Simulated_Phases/Minimized/ice6.gro\")\n",
    "uni_ice7_min = mda.Universe(\"../../Data/Simulated_Phases/Minimized/ice7.gro\")\n",
    "uni_ice11_min = mda.Universe(\"../../Data/Simulated_Phases/Minimized/ice11.gro\")\n",
    "uni_ice12_min = mda.Universe(\"../../Data/Simulated_Phases/Minimized/ice12.gro\")\n",
    "uni_ice17_min = mda.Universe(\"../../Data/Simulated_Phases/Minimized/ice17.gro\")"
   ]
  },
  {
   "cell_type": "code",
   "execution_count": 7,
   "metadata": {},
   "outputs": [],
   "source": [
    "soaper = soapFromUniverse()"
   ]
  },
  {
   "cell_type": "code",
   "execution_count": 13,
   "metadata": {},
   "outputs": [
    {
     "data": {
      "application/vnd.jupyter.widget-view+json": {
       "model_id": "dc60066577fc44399b2fd7053a2c6338",
       "version_major": 2,
       "version_minor": 0
      },
      "text/plain": [
       "  0%|          | 0/20 [00:00<?, ?it/s]"
      ]
     },
     "metadata": {},
     "output_type": "display_data"
    },
    {
     "data": {
      "application/vnd.jupyter.widget-view+json": {
       "model_id": "5461a2a6f5ec486aa4dfc165b58c7ab1",
       "version_major": 2,
       "version_minor": 0
      },
      "text/plain": [
       "  0%|          | 0/20 [00:00<?, ?it/s]"
      ]
     },
     "metadata": {},
     "output_type": "display_data"
    },
    {
     "data": {
      "application/vnd.jupyter.widget-view+json": {
       "model_id": "78d284fd511f4fa5a7eb2f458d9f7d32",
       "version_major": 2,
       "version_minor": 0
      },
      "text/plain": [
       "  0%|          | 0/20 [00:00<?, ?it/s]"
      ]
     },
     "metadata": {},
     "output_type": "display_data"
    },
    {
     "data": {
      "application/vnd.jupyter.widget-view+json": {
       "model_id": "6afaf6b8825848c8aa17ac1c5c0ccca4",
       "version_major": 2,
       "version_minor": 0
      },
      "text/plain": [
       "  0%|          | 0/20 [00:00<?, ?it/s]"
      ]
     },
     "metadata": {},
     "output_type": "display_data"
    },
    {
     "data": {
      "application/vnd.jupyter.widget-view+json": {
       "model_id": "a2cee9223aa443eba7c0c7f311b8271f",
       "version_major": 2,
       "version_minor": 0
      },
      "text/plain": [
       "  0%|          | 0/20 [00:00<?, ?it/s]"
      ]
     },
     "metadata": {},
     "output_type": "display_data"
    },
    {
     "data": {
      "application/vnd.jupyter.widget-view+json": {
       "model_id": "6829322950354f9480afcac644eb8b2d",
       "version_major": 2,
       "version_minor": 0
      },
      "text/plain": [
       "  0%|          | 0/20 [00:00<?, ?it/s]"
      ]
     },
     "metadata": {},
     "output_type": "display_data"
    },
    {
     "data": {
      "application/vnd.jupyter.widget-view+json": {
       "model_id": "aac1e52b27f44c0a90902489af502c9c",
       "version_major": 2,
       "version_minor": 0
      },
      "text/plain": [
       "  0%|          | 0/20 [00:00<?, ?it/s]"
      ]
     },
     "metadata": {},
     "output_type": "display_data"
    },
    {
     "data": {
      "application/vnd.jupyter.widget-view+json": {
       "model_id": "fc1b079e67194436b46db0dcf076460d",
       "version_major": 2,
       "version_minor": 0
      },
      "text/plain": [
       "  0%|          | 0/20 [00:00<?, ?it/s]"
      ]
     },
     "metadata": {},
     "output_type": "display_data"
    },
    {
     "data": {
      "application/vnd.jupyter.widget-view+json": {
       "model_id": "612c61012f6f42a19d173b07ed39fd0d",
       "version_major": 2,
       "version_minor": 0
      },
      "text/plain": [
       "  0%|          | 0/20 [00:00<?, ?it/s]"
      ]
     },
     "metadata": {},
     "output_type": "display_data"
    }
   ],
   "source": [
    "soap_ih_list = Parallel(n_jobs=10)(delayed(soaper.soaper)(uni_iceih, i) for i in tqdm.trange(0, 1000, 50))\n",
    "soap_ic_list = Parallel(n_jobs=10)(delayed(soaper.soaper)(uni_iceic, i) for i in tqdm.trange(0, 1000, 50))\n",
    "soap_2D_list = Parallel(n_jobs=10)(delayed(soaper.soaper)(uni_ice2D, i) for i in tqdm.trange(0, 1000, 50))\n",
    "soap_3_list = Parallel(n_jobs=10)(delayed(soaper.soaper)(uni_ice3, i) for i in tqdm.trange(0, 1000, 50))\n",
    "soap_5_list = Parallel(n_jobs=10)(delayed(soaper.soaper)(uni_ice5, i) for i in tqdm.trange(0, 1000, 50))\n",
    "soap_6_list = Parallel(n_jobs=10)(delayed(soaper.soaper)(uni_ice6, i) for i in tqdm.trange(0, 1000, 50))\n",
    "soap_7_list = Parallel(n_jobs=10)(delayed(soaper.soaper)(uni_ice7, i) for i in tqdm.trange(0, 1000, 50))\n",
    "soap_12_list = Parallel(n_jobs=10)(delayed(soaper.soaper)(uni_ice12, i) for i in tqdm.trange(0, 1000, 50))\n",
    "soap_17_list = Parallel(n_jobs=10)(delayed(soaper.soaper)(uni_ice17, i) for i in tqdm.trange(0, 1000, 50))\n"
   ]
  },
  {
   "cell_type": "code",
   "execution_count": 14,
   "metadata": {},
   "outputs": [
    {
     "data": {
      "application/vnd.jupyter.widget-view+json": {
       "model_id": "55ce78800fa440f6b41086d04d3b0c54",
       "version_major": 2,
       "version_minor": 0
      },
      "text/plain": [
       "  0%|          | 0/10 [00:00<?, ?it/s]"
      ]
     },
     "metadata": {},
     "output_type": "display_data"
    },
    {
     "data": {
      "application/vnd.jupyter.widget-view+json": {
       "model_id": "9965d32dbf584c86a110070b0fcba21e",
       "version_major": 2,
       "version_minor": 0
      },
      "text/plain": [
       "  0%|          | 0/10 [00:00<?, ?it/s]"
      ]
     },
     "metadata": {},
     "output_type": "display_data"
    },
    {
     "data": {
      "application/vnd.jupyter.widget-view+json": {
       "model_id": "618d88cd572d4ba2921dcbe798337162",
       "version_major": 2,
       "version_minor": 0
      },
      "text/plain": [
       "  0%|          | 0/10 [00:00<?, ?it/s]"
      ]
     },
     "metadata": {},
     "output_type": "display_data"
    },
    {
     "data": {
      "application/vnd.jupyter.widget-view+json": {
       "model_id": "ae2d03e041f74112b40ab9c6394825a7",
       "version_major": 2,
       "version_minor": 0
      },
      "text/plain": [
       "  0%|          | 0/10 [00:00<?, ?it/s]"
      ]
     },
     "metadata": {},
     "output_type": "display_data"
    },
    {
     "data": {
      "application/vnd.jupyter.widget-view+json": {
       "model_id": "278dc887178f4953a231cde1a7a32587",
       "version_major": 2,
       "version_minor": 0
      },
      "text/plain": [
       "  0%|          | 0/10 [00:00<?, ?it/s]"
      ]
     },
     "metadata": {},
     "output_type": "display_data"
    },
    {
     "data": {
      "application/vnd.jupyter.widget-view+json": {
       "model_id": "0902122feaec4196957c5fe6388d55c2",
       "version_major": 2,
       "version_minor": 0
      },
      "text/plain": [
       "  0%|          | 0/10 [00:00<?, ?it/s]"
      ]
     },
     "metadata": {},
     "output_type": "display_data"
    },
    {
     "data": {
      "application/vnd.jupyter.widget-view+json": {
       "model_id": "cbfd472264de4a948f90f2d61669341e",
       "version_major": 2,
       "version_minor": 0
      },
      "text/plain": [
       "  0%|          | 0/10 [00:00<?, ?it/s]"
      ]
     },
     "metadata": {},
     "output_type": "display_data"
    },
    {
     "data": {
      "application/vnd.jupyter.widget-view+json": {
       "model_id": "00bc56b3b0454ea7a1b4bc0f9d360792",
       "version_major": 2,
       "version_minor": 0
      },
      "text/plain": [
       "  0%|          | 0/10 [00:00<?, ?it/s]"
      ]
     },
     "metadata": {},
     "output_type": "display_data"
    }
   ],
   "source": [
    "soap_liq_1bar_300k_list = Parallel(n_jobs=10)(delayed(soaper.soaper)(liq_1bar_300k, i) for i in tqdm.trange(0, 1000, 100))\n",
    "soap_liq_1bar_250k_list = Parallel(n_jobs=10)(delayed(soaper.soaper)(liq_1bar_250k, i) for i in tqdm.trange(0, 1000, 100))\n",
    "soap_liq_1bar_230k_list = Parallel(n_jobs=10)(delayed(soaper.soaper)(liq_1bar_230k, i) for i in tqdm.trange(0, 100, 10))\n",
    "soap_liq_3000bar_230k_list = Parallel(n_jobs=10)(delayed(soaper.soaper)(liq_3000bar_230k, i) for i in tqdm.trange(0, 100, 10))\n",
    "soap_liq_5000bar_250k_list = Parallel(n_jobs=10)(delayed(soaper.soaper)(liq_5000bar_250k, i) for i in tqdm.trange(0, 1000, 100))\n",
    "soap_liq_6000bar_230k_list = Parallel(n_jobs=10)(delayed(soaper.soaper)(liq_6000bar_230k, i) for i in tqdm.trange(0, 1000, 100))\n",
    "soap_liq_8000bar_230k_list = Parallel(n_jobs=10)(delayed(soaper.soaper)(liq_8000bar_230k, i) for i in tqdm.trange(0, 1000, 100))\n",
    "soap_liq_10000bar_250k_list = Parallel(n_jobs=10)(delayed(soaper.soaper)(liq_10000bar_250k, i) for i in tqdm.trange(0, 1000, 100))"
   ]
  },
  {
   "cell_type": "code",
   "execution_count": 15,
   "metadata": {},
   "outputs": [],
   "source": [
    "soap_iceih_min = soaper.soaper(uni_iceih_min)\n",
    "soap_iceic_min = soaper.soaper(uni_iceic_min)\n",
    "soap_ice2D_min = soaper.soaper(uni_ice2D_min)\n",
    "soap_ice3_min = soaper.soaper(uni_ice3_min)\n",
    "soap_ice5_min = soaper.soaper(uni_ice5_min)\n",
    "soap_ice6_min = soaper.soaper(uni_ice6_min)\n",
    "soap_ice7_min = soaper.soaper(uni_ice7_min)\n",
    "soap_ice11_min = soaper.soaper(uni_ice11_min)\n",
    "soap_ice12_min = soaper.soaper(uni_ice12_min)\n",
    "soap_ice17_min = soaper.soaper(uni_ice17_min)"
   ]
  },
  {
   "cell_type": "code",
   "execution_count": 16,
   "metadata": {},
   "outputs": [],
   "source": [
    "# static soaps\n",
    "soap_ih = np.load(\"../../Data/Numpy_Processed/soap_ih.npy\")\n",
    "soap_ic = np.load(\"../../Data/Numpy_Processed/soap_ic.npy\")\n",
    "soap_2 = np.load(\"../../Data/Numpy_Processed/soap_2.npy\")\n",
    "soap_3 = np.load(\"../../Data/Numpy_Processed/soap_3.npy\")\n",
    "soap_4 = np.load(\"../../Data/Numpy_Processed/soap_4.npy\")\n",
    "soap_5 = np.load(\"../../Data/Numpy_Processed/soap_5.npy\")\n",
    "soap_6 = np.load(\"../../Data/Numpy_Processed/soap_6.npy\")\n",
    "soap_7 = np.load(\"../../Data/Numpy_Processed/soap_7.npy\")\n",
    "soap_8 = np.load(\"../../Data/Numpy_Processed/soap_8.npy\")\n",
    "soap_9 = np.load(\"../../Data/Numpy_Processed/soap_9.npy\")\n",
    "soap_11 = np.load(\"../../Data/Numpy_Processed/soap_11.npy\")\n",
    "soap_12 = np.load(\"../../Data/Numpy_Processed/soap_12.npy\")\n",
    "soap_13 = np.load(\"../../Data/Numpy_Processed/soap_13.npy\")\n",
    "soap_17 = np.load(\"../../Data/Numpy_Processed/soap_17.npy\")\n",
    "soap_liq = np.load(\"../../Data/Numpy_Processed/soap_liq.npy\")"
   ]
  },
  {
   "cell_type": "code",
   "execution_count": 17,
   "metadata": {},
   "outputs": [],
   "source": [
    "# Extracting SOAP data..\n",
    "static_ice = np.concatenate([soap_4[::2], soap_7[::2],\n",
    "                             soap_8, soap_9[::2], soap_11[::2], soap_12[::2], soap_13[::2], soap_17[::2]])\n",
    "ice_soaps = np.concatenate([np.concatenate(soap_ih_list), np.concatenate(soap_ic_list), np.concatenate(soap_2D_list[7:]),\n",
    "                np.concatenate(soap_3_list),np.concatenate(soap_5_list), np.concatenate(soap_6_list), np.concatenate(soap_7_list[10:]),\n",
    "                np.concatenate(soap_12_list[:10]), np.concatenate(soap_17_list[:9])])\n",
    "liquid_soaps = np.concatenate([np.concatenate(soap_liq_1bar_230k_list), np.concatenate(soap_liq_1bar_250k_list),np.concatenate(soap_liq_1bar_300k_list), \n",
    "                np.concatenate(soap_liq_3000bar_230k_list),np.concatenate(soap_liq_5000bar_250k_list),np.concatenate(soap_liq_6000bar_230k_list),\n",
    "                np.concatenate(soap_liq_8000bar_230k_list),np.concatenate(soap_liq_10000bar_250k_list)])\n",
    "\n",
    "all_soaps = np.concatenate([static_ice, ice_soaps, liquid_soaps], dtype = np.float32)"
   ]
  },
  {
   "cell_type": "code",
   "execution_count": 19,
   "metadata": {},
   "outputs": [],
   "source": [
    "# Preprocessiong\n",
    "scalerS = StandardScaler()\n",
    "scalerS.fit(all_soaps)\n",
    "scalerdatafit = scalerS.fit_transform(all_soaps)\n",
    "X_trainS, X_testS, y_trainS, y_testS = train_test_split(scalerdatafit, scalerdatafit, test_size=0.25, random_state=1)\n",
    "# Save the scaler\n",
    "#joblib.dump(scalerS, \"Saved/scaler.save\")"
   ]
  },
  {
   "cell_type": "code",
   "execution_count": 20,
   "metadata": {},
   "outputs": [
    {
     "name": "stdout",
     "output_type": "stream",
     "text": [
      "Epoch: 1/100 | Train Loss: 78914.66868 | Val Loss: 68549.75207 | \n",
      "Epoch: 2/100 | Train Loss: 66278.57109 | Val Loss: 64606.28586 | \n",
      "Epoch: 3/100 | Train Loss: 63799.56464 | Val Loss: 63099.70361 | \n",
      "Epoch: 4/100 | Train Loss: 62668.72889 | Val Loss: 62271.37168 | \n",
      "Epoch: 5/100 | Train Loss: 61949.75753 | Val Loss: 61629.26848 | \n",
      "Epoch: 6/100 | Train Loss: 61381.78637 | Val Loss: 61112.76317 | \n",
      "Epoch: 7/100 | Train Loss: 60908.94012 | Val Loss: 60752.41517 | \n",
      "Epoch: 8/100 | Train Loss: 60514.18102 | Val Loss: 60355.14406 | \n",
      "Epoch: 9/100 | Train Loss: 60181.86361 | Val Loss: 60018.27098 | \n",
      "Epoch: 10/100 | Train Loss: 59899.22103 | Val Loss: 59781.66210 | \n",
      "Epoch: 11/100 | Train Loss: 59650.27189 | Val Loss: 59530.70361 | \n",
      "Epoch: 12/100 | Train Loss: 59422.66298 | Val Loss: 59343.39482 | \n",
      "Epoch: 13/100 | Train Loss: 59219.87997 | Val Loss: 59135.74293 | \n",
      "Epoch: 14/100 | Train Loss: 59032.29889 | Val Loss: 58970.89748 | \n",
      "Epoch: 15/100 | Train Loss: 58858.28446 | Val Loss: 58810.51049 | \n",
      "Epoch: 16/100 | Train Loss: 58696.73395 | Val Loss: 58664.35803 | \n",
      "Epoch: 17/100 | Train Loss: 58547.02011 | Val Loss: 58550.82214 | \n",
      "Epoch: 18/100 | Train Loss: 58409.40655 | Val Loss: 58392.13509 | \n",
      "Epoch: 19/100 | Train Loss: 58276.44848 | Val Loss: 58266.33262 | \n",
      "Epoch: 20/100 | Train Loss: 58151.96220 | Val Loss: 58154.22925 | \n",
      "Epoch: 21/100 | Train Loss: 58031.92310 | Val Loss: 58046.93339 | \n",
      "Epoch: 22/100 | Train Loss: 57914.69257 | Val Loss: 57975.20574 | \n",
      "Epoch: 23/100 | Train Loss: 57803.16446 | Val Loss: 57835.42829 | \n",
      "Epoch: 24/100 | Train Loss: 57697.32613 | Val Loss: 57761.19713 | \n",
      "Epoch: 25/100 | Train Loss: 57596.23624 | Val Loss: 57678.84857 | \n",
      "Epoch: 26/100 | Train Loss: 57499.62653 | Val Loss: 57581.06008 | \n",
      "Epoch: 27/100 | Train Loss: 57403.74715 | Val Loss: 57531.45316 | \n",
      "Epoch: 28/100 | Train Loss: 57311.52127 | Val Loss: 57421.28590 | \n",
      "Epoch: 29/100 | Train Loss: 57226.32709 | Val Loss: 57340.55195 | \n",
      "Epoch: 30/100 | Train Loss: 57140.65213 | Val Loss: 57279.06774 | \n",
      "Epoch: 31/100 | Train Loss: 57057.41120 | Val Loss: 57182.55867 | \n",
      "Epoch: 32/100 | Train Loss: 56978.20236 | Val Loss: 57125.52735 | \n",
      "Epoch: 33/100 | Train Loss: 56900.57143 | Val Loss: 57070.65766 | \n",
      "Epoch: 34/100 | Train Loss: 56833.38439 | Val Loss: 57025.83718 | \n",
      "Epoch: 35/100 | Train Loss: 56764.10745 | Val Loss: 56981.21547 | \n",
      "Epoch: 36/100 | Train Loss: 56696.87232 | Val Loss: 56983.56644 | \n",
      "Epoch: 37/100 | Train Loss: 56631.50334 | Val Loss: 56834.28613 | \n",
      "Epoch: 38/100 | Train Loss: 56568.23650 | Val Loss: 56822.92018 | \n",
      "Epoch: 39/100 | Train Loss: 56508.91044 | Val Loss: 56788.19298 | \n",
      "Epoch: 40/100 | Train Loss: 56448.78011 | Val Loss: 56731.39417 | \n",
      "Epoch: 41/100 | Train Loss: 56391.69985 | Val Loss: 56713.50421 | \n",
      "Epoch: 42/100 | Train Loss: 56335.78267 | Val Loss: 56651.72994 | \n",
      "Epoch: 43/100 | Train Loss: 56278.67600 | Val Loss: 56574.29327 | \n",
      "Epoch: 44/100 | Train Loss: 56226.10229 | Val Loss: 56533.54010 | \n",
      "Epoch: 45/100 | Train Loss: 56175.27155 | Val Loss: 56491.40692 | \n",
      "Epoch: 46/100 | Train Loss: 56125.49383 | Val Loss: 56448.09292 | \n",
      "Epoch: 47/100 | Train Loss: 56076.93151 | Val Loss: 56410.44696 | \n",
      "Epoch: 48/100 | Train Loss: 56027.84242 | Val Loss: 56384.42695 | \n",
      "Epoch: 49/100 | Train Loss: 55983.09391 | Val Loss: 56354.85806 | \n",
      "Epoch: 50/100 | Train Loss: 55935.53481 | Val Loss: 56313.26895 | \n",
      "Epoch: 51/100 | Train Loss: 55894.41046 | Val Loss: 56263.57272 | \n",
      "Epoch: 52/100 | Train Loss: 55849.64689 | Val Loss: 56249.22399 | \n",
      "Epoch: 53/100 | Train Loss: 55807.44334 | Val Loss: 56218.85586 | \n",
      "Epoch: 54/100 | Train Loss: 55769.59095 | Val Loss: 56212.47468 | \n",
      "Epoch: 55/100 | Train Loss: 55728.45286 | Val Loss: 56169.98749 | \n",
      "Epoch: 56/100 | Train Loss: 55688.85543 | Val Loss: 56141.26594 | \n"
     ]
    },
    {
     "data": {
      "text/plain": [
       "VAE(\n",
       "  (encoder): Sequential(\n",
       "    (0): Linear(in_features=952, out_features=1500, bias=True)\n",
       "    (1): GELU(approximate='none')\n",
       "    (2): Linear(in_features=1500, out_features=600, bias=True)\n",
       "    (3): GELU(approximate='none')\n",
       "    (4): Linear(in_features=600, out_features=400, bias=True)\n",
       "    (5): GELU(approximate='none')\n",
       "    (6): Linear(in_features=400, out_features=100, bias=True)\n",
       "    (7): GELU(approximate='none')\n",
       "  )\n",
       "  (mu): Linear(in_features=100, out_features=2, bias=True)\n",
       "  (logvar): Linear(in_features=100, out_features=2, bias=True)\n",
       "  (decoder): Sequential(\n",
       "    (0): Linear(in_features=2, out_features=100, bias=True)\n",
       "    (1): GELU(approximate='none')\n",
       "    (2): Linear(in_features=100, out_features=400, bias=True)\n",
       "    (3): GELU(approximate='none')\n",
       "    (4): Linear(in_features=400, out_features=600, bias=True)\n",
       "    (5): GELU(approximate='none')\n",
       "    (6): Linear(in_features=600, out_features=1500, bias=True)\n",
       "    (7): GELU(approximate='none')\n",
       "    (8): Linear(in_features=1500, out_features=952, bias=True)\n",
       "  )\n",
       ")"
      ]
     },
     "execution_count": 20,
     "metadata": {},
     "output_type": "execute_result"
    }
   ],
   "source": [
    "# Model initialization and training..\n",
    "pyvenc = VAE(952,X_trainS, X_testS, hidden1 = 1500, hidden2 = 600,hidden3=400,hidden4=100, \n",
    "                 code = 2, learning_rate=0.00001,batch_size=128, epochs=100,\n",
    "                 shuffle=True, thresh = 1)\n",
    "# This trains the model..\n",
    "pyvenc.fit()\n",
    "# Save the model\n",
    "#torch.save(pyvenc.state_dict(), \"Saved/pyvenc.pt\")\n",
    "## Using pretrained weights..\n",
    "#pyvenc.load_state_dict(torch.load(\"Saved/pyvenc.pt\"))\n",
    "pyvenc.to('cpu')"
   ]
  },
  {
   "cell_type": "code",
   "execution_count": 48,
   "metadata": {},
   "outputs": [
    {
     "data": {
      "image/png": "[encoded data removed]",
      "text/plain": [
       "<Figure size 800x500 with 1 Axes>"
      ]
     },
     "metadata": {},
     "output_type": "display_data"
    }
   ],
   "source": [
    "plt.style.use(\"style.txt\")\n",
    "fig, ax = plt.subplots(figsize = [8, 5])\n",
    "ax.plot(np.arange(1, len(pyvenc.loss_train) + 1)[::2],pyvenc.loss_train[::2],\"d-\", c = \"hotpink\", lw = 2, label = \"Training loss\")\n",
    "ax.plot(np.arange(1, len(pyvenc.loss_val) + 1)[::2], pyvenc.loss_val[::2],\"^-\", c = \"navy\", lw = 2, label = \"Validation loss\")\n",
    "\n",
    "Ticker(ax)\n",
    "ax.set_xlim([0, 50])\n",
    "ax.set_ylim([430, 625])\n",
    "ax.legend(fontsize = 25)\n",
    "ax.set_xlabel(\"#Epochs\", fontsize = 30)\n",
    "plt.savefig(\"train_val_loss.svg\")"
   ]
  },
  {
   "cell_type": "code",
   "execution_count": null,
   "metadata": {},
   "outputs": [],
   "source": []
  }
 ],
 "metadata": {
  "kernelspec": {
   "display_name": "Python 3 (ipykernel)",
   "language": "python",
   "name": "python3"
  }
 },
 "nbformat": 4,
 "nbformat_minor": 2
}
